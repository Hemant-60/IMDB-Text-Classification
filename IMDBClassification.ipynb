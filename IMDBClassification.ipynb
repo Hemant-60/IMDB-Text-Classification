{
 "cells": [
  {
   "cell_type": "code",
   "execution_count": 7,
   "metadata": {},
   "outputs": [
    {
     "name": "stdout",
     "output_type": "stream",
     "text": [
      "1.13.1\n"
     ]
    }
   ],
   "source": [
    "from __future__ import absolute_import, division, print_function, unicode_literals\n",
    "\n",
    "import tensorflow as tf\n",
    "from tensorflow import keras\n",
    "\n",
    "import numpy as np\n",
    "\n",
    "print(tf.__version__)"
   ]
  },
  {
   "cell_type": "code",
   "execution_count": 9,
   "metadata": {},
   "outputs": [],
   "source": [
    "imdb=keras.datasets.imdb"
   ]
  },
  {
   "cell_type": "code",
   "execution_count": 10,
   "metadata": {},
   "outputs": [],
   "source": [
    "(trainData,trainLabels),(testData,testLabels)=imdb.load_data(num_words=10000)"
   ]
  },
  {
   "cell_type": "code",
   "execution_count": 12,
   "metadata": {},
   "outputs": [
    {
     "name": "stdout",
     "output_type": "stream",
     "text": [
      "Training entries : 25000, labels:25000\n"
     ]
    }
   ],
   "source": [
    "print(\"Training entries : {}, labels:{}\".format(len(trainData) ,len(trainLabels)))"
   ]
  },
  {
   "cell_type": "code",
   "execution_count": 13,
   "metadata": {},
   "outputs": [
    {
     "name": "stdout",
     "output_type": "stream",
     "text": [
      "[1, 14, 22, 16, 43, 530, 973, 1622, 1385, 65, 458, 4468, 66, 3941, 4, 173, 36, 256, 5, 25, 100, 43, 838, 112, 50, 670, 2, 9, 35, 480, 284, 5, 150, 4, 172, 112, 167, 2, 336, 385, 39, 4, 172, 4536, 1111, 17, 546, 38, 13, 447, 4, 192, 50, 16, 6, 147, 2025, 19, 14, 22, 4, 1920, 4613, 469, 4, 22, 71, 87, 12, 16, 43, 530, 38, 76, 15, 13, 1247, 4, 22, 17, 515, 17, 12, 16, 626, 18, 2, 5, 62, 386, 12, 8, 316, 8, 106, 5, 4, 2223, 5244, 16, 480, 66, 3785, 33, 4, 130, 12, 16, 38, 619, 5, 25, 124, 51, 36, 135, 48, 25, 1415, 33, 6, 22, 12, 215, 28, 77, 52, 5, 14, 407, 16, 82, 2, 8, 4, 107, 117, 5952, 15, 256, 4, 2, 7, 3766, 5, 723, 36, 71, 43, 530, 476, 26, 400, 317, 46, 7, 4, 2, 1029, 13, 104, 88, 4, 381, 15, 297, 98, 32, 2071, 56, 26, 141, 6, 194, 7486, 18, 4, 226, 22, 21, 134, 476, 26, 480, 5, 144, 30, 5535, 18, 51, 36, 28, 224, 92, 25, 104, 4, 226, 65, 16, 38, 1334, 88, 12, 16, 283, 5, 16, 4472, 113, 103, 32, 15, 16, 5345, 19, 178, 32]\n"
     ]
    }
   ],
   "source": [
    "print(trainData[0])"
   ]
  },
  {
   "cell_type": "code",
   "execution_count": 16,
   "metadata": {},
   "outputs": [
    {
     "data": {
      "text/plain": [
       "(218, 189)"
      ]
     },
     "execution_count": 16,
     "metadata": {},
     "output_type": "execute_result"
    }
   ],
   "source": [
    "len(trainData[0]),len(trainData[1])"
   ]
  },
  {
   "cell_type": "code",
   "execution_count": 17,
   "metadata": {},
   "outputs": [
    {
     "name": "stdout",
     "output_type": "stream",
     "text": [
      "Downloading data from https://storage.googleapis.com/tensorflow/tf-keras-datasets/imdb_word_index.json\n",
      "1646592/1641221 [==============================] - 4s 2us/step\n"
     ]
    }
   ],
   "source": [
    "wordIndex=imdb.get_word_index()"
   ]
  },
  {
   "cell_type": "code",
   "execution_count": 19,
   "metadata": {},
   "outputs": [],
   "source": [
    "wordIndex = {k:(v+3) for k,v in wordIndex.items()}\n",
    "wordIndex[\"<PAD>\"] = 0\n",
    "wordIndex[\"<START>\"] = 1\n",
    "wordIndex[\"<UNK>\"] = 2  # unknown\n",
    "wordIndex[\"<UNUSED>\"] = 3"
   ]
  },
  {
   "cell_type": "code",
   "execution_count": 21,
   "metadata": {},
   "outputs": [],
   "source": [
    "reverse_word_index = dict([(value, key) for (key, value) in wordIndex.items()])"
   ]
  },
  {
   "cell_type": "code",
   "execution_count": 22,
   "metadata": {},
   "outputs": [],
   "source": [
    "def decode_review(text):\n",
    "    return ' '.join([reverse_word_index.get(i, '?') for i in text])"
   ]
  },
  {
   "cell_type": "code",
   "execution_count": 23,
   "metadata": {},
   "outputs": [
    {
     "data": {
      "text/plain": [
       "\"<START> this film was just brilliant casting location scenery story direction everyone's really suited the part they played and you could just imagine being there robert <UNK> is an amazing actor and now the same being director <UNK> father came from the same scottish island as myself so i loved the fact there was a real connection with this film the witty remarks throughout the film were great it was just brilliant so much that i bought the film as soon as it was released for <UNK> and would recommend it to everyone to watch and the fly fishing was amazing really cried at the end it was so sad and you know what they say if you cry at a film it must have been good and this definitely was also <UNK> to the two little boy's that played the <UNK> of norman and paul they were just brilliant children are often left out of the <UNK> list i think because the stars that play them all grown up are such a big profile for the whole film but these children are amazing and should be praised for what they have done don't you think the whole story was so lovely because it was true and was someone's life after all that was shared with us all\""
      ]
     },
     "execution_count": 23,
     "metadata": {},
     "output_type": "execute_result"
    }
   ],
   "source": [
    "decode_review(trainData[0])"
   ]
  },
  {
   "cell_type": "code",
   "execution_count": 25,
   "metadata": {},
   "outputs": [],
   "source": [
    "trainData = keras.preprocessing.sequence.pad_sequences(trainData,\n",
    "                                                        value=wordIndex[\"<PAD>\"],\n",
    "                                                        padding='post',\n",
    "                                                        maxlen=256)"
   ]
  },
  {
   "cell_type": "code",
   "execution_count": 26,
   "metadata": {},
   "outputs": [],
   "source": [
    "testData = keras.preprocessing.sequence.pad_sequences(testData,\n",
    "                                                        value=wordIndex[\"<PAD>\"],\n",
    "                                                        padding='post',\n",
    "                                                        maxlen=256)"
   ]
  },
  {
   "cell_type": "code",
   "execution_count": 27,
   "metadata": {},
   "outputs": [
    {
     "data": {
      "text/plain": [
       "(256, 256)"
      ]
     },
     "execution_count": 27,
     "metadata": {},
     "output_type": "execute_result"
    }
   ],
   "source": [
    "len(trainData[0]), len(trainData[1])"
   ]
  },
  {
   "cell_type": "code",
   "execution_count": 99,
   "metadata": {},
   "outputs": [],
   "source": [
    "#print(trainData[0])"
   ]
  },
  {
   "cell_type": "code",
   "execution_count": 86,
   "metadata": {},
   "outputs": [
    {
     "name": "stdout",
     "output_type": "stream",
     "text": [
      "_________________________________________________________________\n",
      "Layer (type)                 Output Shape              Param #   \n",
      "=================================================================\n",
      "embedding_8 (Embedding)      (None, None, 16)          160000    \n",
      "_________________________________________________________________\n",
      "global_average_pooling1d_6 ( (None, 16)                0         \n",
      "_________________________________________________________________\n",
      "dense_11 (Dense)             (None, 16)                272       \n",
      "_________________________________________________________________\n",
      "dense_12 (Dense)             (None, 1)                 17        \n",
      "=================================================================\n",
      "Total params: 160,289\n",
      "Trainable params: 160,289\n",
      "Non-trainable params: 0\n",
      "_________________________________________________________________\n"
     ]
    }
   ],
   "source": [
    "vocabSize=10000\n",
    "model=keras.Sequential()\n",
    "model.add(keras.layers.Embedding(vocabSize,16))\n",
    "model.add(keras.layers.GlobalAveragePooling1D())\n",
    "model.add(keras.layers.Dense(16,activation=tf.nn.relu))\n",
    "#model.add(keras.layers.Dense(16,activation=tf.nn.relu))\n",
    "model.add(keras.layers.Dense(1,activation=tf.nn.sigmoid))\n",
    "model.summary()"
   ]
  },
  {
   "cell_type": "code",
   "execution_count": 87,
   "metadata": {},
   "outputs": [],
   "source": [
    "model.compile(optimizer='adam',\n",
    "              loss='binary_crossentropy',\n",
    "              metrics=['acc'])"
   ]
  },
  {
   "cell_type": "code",
   "execution_count": 88,
   "metadata": {},
   "outputs": [],
   "source": [
    "xVal=trainData[:10000]\n",
    "partialXTrain=trainData[10000:]"
   ]
  },
  {
   "cell_type": "code",
   "execution_count": 89,
   "metadata": {},
   "outputs": [],
   "source": [
    "yVal=trainLabels[:10000]\n",
    "partialYTrain=trainLabels[10000:]"
   ]
  },
  {
   "cell_type": "code",
   "execution_count": 90,
   "metadata": {},
   "outputs": [
    {
     "name": "stdout",
     "output_type": "stream",
     "text": [
      "Train on 15000 samples, validate on 10000 samples\n",
      "Epoch 1/40\n",
      "15000/15000 [==============================] - 1s 64us/sample - loss: 0.6924 - acc: 0.5381 - val_loss: 0.6911 - val_acc: 0.6247\n",
      "Epoch 2/40\n",
      "15000/15000 [==============================] - 1s 48us/sample - loss: 0.6887 - acc: 0.6659 - val_loss: 0.6858 - val_acc: 0.7223\n",
      "Epoch 3/40\n",
      "15000/15000 [==============================] - 1s 46us/sample - loss: 0.6800 - acc: 0.7499 - val_loss: 0.6742 - val_acc: 0.7411\n",
      "Epoch 4/40\n",
      "15000/15000 [==============================] - 1s 50us/sample - loss: 0.6631 - acc: 0.7649 - val_loss: 0.6538 - val_acc: 0.7495\n",
      "Epoch 5/40\n",
      "15000/15000 [==============================] - 1s 49us/sample - loss: 0.6358 - acc: 0.7825 - val_loss: 0.6240 - val_acc: 0.7661\n",
      "Epoch 6/40\n",
      "15000/15000 [==============================] - 1s 55us/sample - loss: 0.5988 - acc: 0.8005 - val_loss: 0.5867 - val_acc: 0.7907\n",
      "Epoch 7/40\n",
      "15000/15000 [==============================] - 1s 59us/sample - loss: 0.5551 - acc: 0.8181 - val_loss: 0.5454 - val_acc: 0.8061\n",
      "Epoch 8/40\n",
      "15000/15000 [==============================] - 1s 49us/sample - loss: 0.5097 - acc: 0.8314 - val_loss: 0.5050 - val_acc: 0.8216\n",
      "Epoch 9/40\n",
      "15000/15000 [==============================] - 1s 50us/sample - loss: 0.4653 - acc: 0.8481 - val_loss: 0.4665 - val_acc: 0.8344\n",
      "Epoch 10/40\n",
      "15000/15000 [==============================] - 1s 47us/sample - loss: 0.4255 - acc: 0.8593 - val_loss: 0.4341 - val_acc: 0.8421\n",
      "Epoch 11/40\n",
      "15000/15000 [==============================] - 1s 51us/sample - loss: 0.3900 - acc: 0.8724 - val_loss: 0.4063 - val_acc: 0.8513\n",
      "Epoch 12/40\n",
      "15000/15000 [==============================] - 1s 57us/sample - loss: 0.3601 - acc: 0.8814 - val_loss: 0.3843 - val_acc: 0.8567\n",
      "Epoch 13/40\n",
      "15000/15000 [==============================] - 1s 51us/sample - loss: 0.3353 - acc: 0.8891 - val_loss: 0.3650 - val_acc: 0.8615\n",
      "Epoch 14/40\n",
      "15000/15000 [==============================] - 1s 56us/sample - loss: 0.3135 - acc: 0.8937 - val_loss: 0.3502 - val_acc: 0.8676\n",
      "Epoch 15/40\n",
      "15000/15000 [==============================] - 1s 49us/sample - loss: 0.2947 - acc: 0.8983 - val_loss: 0.3379 - val_acc: 0.8712\n",
      "Epoch 16/40\n",
      "15000/15000 [==============================] - 1s 49us/sample - loss: 0.2783 - acc: 0.9041 - val_loss: 0.3284 - val_acc: 0.8719\n",
      "Epoch 17/40\n",
      "15000/15000 [==============================] - 1s 45us/sample - loss: 0.2639 - acc: 0.9081 - val_loss: 0.3195 - val_acc: 0.8751\n",
      "Epoch 18/40\n",
      "15000/15000 [==============================] - 1s 49us/sample - loss: 0.2508 - acc: 0.9127 - val_loss: 0.3127 - val_acc: 0.8776\n",
      "Epoch 19/40\n",
      "15000/15000 [==============================] - 1s 47us/sample - loss: 0.2388 - acc: 0.9173 - val_loss: 0.3068 - val_acc: 0.8788\n",
      "Epoch 20/40\n",
      "15000/15000 [==============================] - 1s 46us/sample - loss: 0.2279 - acc: 0.9213 - val_loss: 0.3035 - val_acc: 0.8789\n",
      "Epoch 21/40\n",
      "15000/15000 [==============================] - 1s 48us/sample - loss: 0.2181 - acc: 0.9240 - val_loss: 0.2983 - val_acc: 0.8808\n",
      "Epoch 22/40\n",
      "15000/15000 [==============================] - 1s 46us/sample - loss: 0.2085 - acc: 0.9281 - val_loss: 0.2946 - val_acc: 0.8821\n",
      "Epoch 23/40\n",
      "15000/15000 [==============================] - 1s 47us/sample - loss: 0.1994 - acc: 0.9316 - val_loss: 0.2924 - val_acc: 0.8826\n",
      "Epoch 24/40\n",
      "15000/15000 [==============================] - 1s 47us/sample - loss: 0.1917 - acc: 0.9336 - val_loss: 0.2899 - val_acc: 0.8837\n",
      "Epoch 25/40\n",
      "15000/15000 [==============================] - 1s 46us/sample - loss: 0.1837 - acc: 0.9387 - val_loss: 0.2884 - val_acc: 0.8843\n",
      "Epoch 26/40\n",
      "15000/15000 [==============================] - 1s 50us/sample - loss: 0.1767 - acc: 0.9418 - val_loss: 0.2870 - val_acc: 0.8846\n",
      "Epoch 27/40\n",
      "15000/15000 [==============================] - 1s 45us/sample - loss: 0.1696 - acc: 0.9458 - val_loss: 0.2860 - val_acc: 0.8847\n",
      "Epoch 28/40\n",
      "15000/15000 [==============================] - 1s 50us/sample - loss: 0.1631 - acc: 0.9481 - val_loss: 0.2858 - val_acc: 0.8850\n",
      "Epoch 29/40\n",
      "15000/15000 [==============================] - 1s 47us/sample - loss: 0.1571 - acc: 0.9505 - val_loss: 0.2887 - val_acc: 0.8830\n",
      "Epoch 30/40\n",
      "15000/15000 [==============================] - 1s 46us/sample - loss: 0.1512 - acc: 0.9525 - val_loss: 0.2859 - val_acc: 0.8859\n",
      "Epoch 31/40\n",
      "15000/15000 [==============================] - 1s 49us/sample - loss: 0.1459 - acc: 0.9551 - val_loss: 0.2870 - val_acc: 0.8854\n",
      "Epoch 32/40\n",
      "15000/15000 [==============================] - 1s 46us/sample - loss: 0.1402 - acc: 0.9579 - val_loss: 0.2873 - val_acc: 0.8858\n",
      "Epoch 33/40\n",
      "15000/15000 [==============================] - 1s 49us/sample - loss: 0.1353 - acc: 0.9601 - val_loss: 0.2890 - val_acc: 0.8852\n",
      "Epoch 34/40\n",
      "15000/15000 [==============================] - 1s 46us/sample - loss: 0.1303 - acc: 0.9617 - val_loss: 0.2896 - val_acc: 0.8856\n",
      "Epoch 35/40\n",
      "15000/15000 [==============================] - 1s 47us/sample - loss: 0.1258 - acc: 0.9633 - val_loss: 0.2914 - val_acc: 0.8857\n",
      "Epoch 36/40\n",
      "15000/15000 [==============================] - 1s 47us/sample - loss: 0.1211 - acc: 0.9651 - val_loss: 0.2933 - val_acc: 0.8853\n",
      "Epoch 37/40\n",
      "15000/15000 [==============================] - 1s 46us/sample - loss: 0.1168 - acc: 0.9671 - val_loss: 0.2967 - val_acc: 0.8844\n",
      "Epoch 38/40\n",
      "15000/15000 [==============================] - 1s 49us/sample - loss: 0.1130 - acc: 0.9679 - val_loss: 0.2970 - val_acc: 0.8837\n",
      "Epoch 39/40\n",
      "15000/15000 [==============================] - 1s 45us/sample - loss: 0.1087 - acc: 0.9693 - val_loss: 0.2995 - val_acc: 0.8834\n",
      "Epoch 40/40\n",
      "15000/15000 [==============================] - 1s 49us/sample - loss: 0.1047 - acc: 0.9711 - val_loss: 0.3021 - val_acc: 0.8837\n"
     ]
    }
   ],
   "source": [
    "history=model.fit(partialXTrain,\n",
    "                  partialYTrain,\n",
    "                  epochs=40,\n",
    "                 batch_size=512,\n",
    "                 validation_data=(xVal,yVal),\n",
    "                 verbose=1)"
   ]
  },
  {
   "cell_type": "code",
   "execution_count": 91,
   "metadata": {},
   "outputs": [
    {
     "name": "stdout",
     "output_type": "stream",
     "text": [
      "25000/25000 [==============================] - 1s 31us/sample - loss: 0.3203 - acc: 0.8733\n"
     ]
    }
   ],
   "source": [
    "res=model.evaluate(testData,testLabels)"
   ]
  },
  {
   "cell_type": "code",
   "execution_count": 92,
   "metadata": {},
   "outputs": [],
   "source": [
    "HistoryDictionary=history.history"
   ]
  },
  {
   "cell_type": "code",
   "execution_count": 93,
   "metadata": {},
   "outputs": [
    {
     "data": {
      "text/plain": [
       "dict_keys(['loss', 'acc', 'val_loss', 'val_acc'])"
      ]
     },
     "execution_count": 93,
     "metadata": {},
     "output_type": "execute_result"
    }
   ],
   "source": [
    "HistoryDictionary.keys()"
   ]
  },
  {
   "cell_type": "code",
   "execution_count": 100,
   "metadata": {},
   "outputs": [
    {
     "data": {
      "image/png": "[encoded data removed]",
      "text/plain": [
       "<Figure size 432x288 with 1 Axes>"
      ]
     },
     "metadata": {
      "needs_background": "light"
     },
     "output_type": "display_data"
    }
   ],
   "source": [
    "\n",
    "import matplotlib.pyplot as plt\n",
    "\n",
    "acc = HistoryDictionary['acc']\n",
    "val_acc = HistoryDictionary['val_acc']\n",
    "loss = HistoryDictionary['loss']\n",
    "val_loss = HistoryDictionary['val_loss']\n",
    "\n",
    "epochs = range(1, len(acc) + 1)\n",
    "\n",
    "plt.plot(epochs, loss, 'bo', label='Training loss')\n",
    "plt.plot(epochs, val_loss, 'b', label='Validation loss')\n",
    "plt.title('Training and validation loss')\n",
    "plt.xlabel('Epochs')\n",
    "plt.ylabel('Loss')\n",
    "plt.legend()\n",
    "\n",
    "plt.show()"
   ]
  },
  {
   "cell_type": "code",
   "execution_count": 101,
   "metadata": {},
   "outputs": [
    {
     "data": {
      "image/png": "[encoded data removed]",
      "text/plain": [
       "<Figure size 432x288 with 1 Axes>"
      ]
     },
     "metadata": {
      "needs_background": "light"
     },
     "output_type": "display_data"
    }
   ],
   "source": [
    "plt.clf() \n",
    "plt.plot(epochs, acc, 'bo', label='Training acc')\n",
    "plt.plot(epochs, val_acc, 'b', label='Validation acc')\n",
    "plt.title('Training and validation accuracy')\n",
    "plt.xlabel('Epochs')\n",
    "plt.ylabel('Accuracy')\n",
    "plt.legend()\n",
    "\n",
    "plt.show()"
   ]
  }
 ],
 "metadata": {
  "kernelspec": {
   "display_name": "Python 3",
   "language": "python",
   "name": "python3"
  },
  "language_info": {
   "codemirror_mode": {
    "name": "ipython",
    "version": 3
   },
   "file_extension": ".py",
   "mimetype": "text/x-python",
   "name": "python",
   "nbconvert_exporter": "python",
   "pygments_lexer": "ipython3",
   "version": "3.7.3"
  }
 },
 "nbformat": 4,
 "nbformat_minor": 2
}
